{
 "metadata": {
  "language_info": {
   "codemirror_mode": {
    "name": "ipython",
    "version": 3
   },
   "file_extension": ".py",
   "mimetype": "text/x-python",
   "name": "python",
   "nbconvert_exporter": "python",
   "pygments_lexer": "ipython3",
   "version": "3.7.4-final"
  },
  "orig_nbformat": 2,
  "kernelspec": {
   "name": "python374jvsc74a57bd0dca0ade3e726a953b501b15e8e990130d2b7799f14cfd9f4271676035ebe5511",
   "display_name": "Python 3.7.4 64-bit ('base': conda)"
  }
 },
 "nbformat": 4,
 "nbformat_minor": 2,
 "cells": [
  {
   "cell_type": "code",
   "execution_count": 37,
   "metadata": {},
   "outputs": [],
   "source": [
    "# Task 1\n",
    "import random\n",
    "import numpy as np\n",
    "random1 = np.random.randint(1,10)"
   ]
  },
  {
   "cell_type": "code",
   "execution_count": 38,
   "metadata": {},
   "outputs": [
    {
     "output_type": "execute_result",
     "data": {
      "text/plain": [
       "8"
      ]
     },
     "metadata": {},
     "execution_count": 38
    }
   ],
   "source": [
    "random1"
   ]
  },
  {
   "cell_type": "code",
   "execution_count": 28,
   "metadata": {},
   "outputs": [
    {
     "output_type": "stream",
     "name": "stdout",
     "text": [
      "My name is Fairy\n"
     ]
    }
   ],
   "source": [
    "Name1 = input(\"What is your name?\")\n",
    "print(\"My name is \" + Name1)"
   ]
  },
  {
   "cell_type": "code",
   "execution_count": 40,
   "metadata": {},
   "outputs": [],
   "source": [
    "guess1 = int(input(\"Can you guess any number between 1 to 10?\"))\n"
   ]
  },
  {
   "cell_type": "code",
   "execution_count": 42,
   "metadata": {},
   "outputs": [
    {
     "output_type": "stream",
     "name": "stdout",
     "text": [
      " Oh no better try again next time!\n"
     ]
    }
   ],
   "source": [
    "if guess1 == random1:\n",
    "    print(\"Bravo you have magical mind! and your number is \" + str(random1))\n",
    "else:\n",
    "    print(\" Oh no better try again next time!\")"
   ]
  },
  {
   "cell_type": "code",
   "execution_count": 49,
   "metadata": {},
   "outputs": [],
   "source": [
    "# Task 2 (Jokes!)\n",
    "jokenum = int(input(\"Can you type your favourite number between 1 to 100?\"))\n"
   ]
  },
  {
   "cell_type": "code",
   "execution_count": 50,
   "metadata": {},
   "outputs": [
    {
     "output_type": "stream",
     "name": "stdout",
     "text": [
      "I tried to catch fog yesterday. Mist.\n"
     ]
    }
   ],
   "source": [
    "if jokenum < 20:\n",
    "    print (\"I told my wife she was drawing her eyebrows too high. She looked surprised\")\n",
    "elif 20 < jokenum <50:\n",
    "    print(\"Someone stole my mood ring, I don't know how I feel about that\")\n",
    "elif 50<jokenum<80:\n",
    "    print(\"I broke my finger last week. On the other hand, I'm okay!\")\n",
    "else:\n",
    "    print(\"I tried to catch fog yesterday. Mist.\")"
   ]
  },
  {
   "cell_type": "code",
   "execution_count": 52,
   "metadata": {},
   "outputs": [],
   "source": [
    "# Task 3 (Menu!)\n",
    "starter = input(\"What is your favourite starter?\")\n",
    "main = input(\"What is your favourite main course?\")\n",
    "dessert = input(\"What is your favourite dessert?\")\n",
    "drink = input(\"What is your favourite drink?\")"
   ]
  },
  {
   "cell_type": "code",
   "execution_count": 54,
   "metadata": {},
   "outputs": [
    {
     "output_type": "stream",
     "name": "stdout",
     "text": [
      "Your favourite meal is spring roll with a plate of beef steak and a delicious banana split served with a glass of cola\n"
     ]
    }
   ],
   "source": [
    "print(\"Your favourite meal is \"+ starter + \" with a plate of \" +main +\" and a delicious \"+dessert +\" served with a glass of \"+drink)"
   ]
  },
  {
   "cell_type": "code",
   "execution_count": 71,
   "metadata": {},
   "outputs": [
    {
     "output_type": "stream",
     "name": "stdout",
     "text": [
      "year 1 2000\nyear 2 1800.0\nyear 3 1620.0\nyear 4 1458.0\nyear 5 1312.2\nyear 6 1180.8\nyear 7 1062.0\nThe bike is below £1000 in year 8 which is at £955\n"
     ]
    }
   ],
   "source": [
    "# Task 4 (Loop)\n",
    "i = 1\n",
    "a = 2000\n",
    "b = 1000\n",
    "while a < 2001:\n",
    "    print(\"year\", i , a)\n",
    "    i = i+1\n",
    "    a = 0.9*int(a) \n",
    "    if a < b:\n",
    "        print(\"The bike is below £\" + str(b) +\" in year \" + str(i) + \" which is at £\" + str(int(a)))\n",
    "        break\n",
    "      \n"
   ]
  },
  {
   "cell_type": "code",
   "execution_count": 73,
   "metadata": {},
   "outputs": [],
   "source": [
    "#Task 5 (maths operations)\n",
    "\n",
    "j = int(input(\"input a single digit number\"))\n",
    "k = int(input(\"input a second single digit number\"))"
   ]
  },
  {
   "cell_type": "code",
   "execution_count": 77,
   "metadata": {},
   "outputs": [
    {
     "output_type": "stream",
     "name": "stdout",
     "text": [
      "\n",
      "    Enter 'a' to add\n",
      "    Enter 'b' to subtract\n",
      "    Enter 'c' to times\n",
      "    Enter 'd' to divide\n",
      "    Enter 'e' to the power of\n",
      "    Enter 'f' to square the first number\n",
      "    \n",
      "4\n"
     ]
    }
   ],
   "source": [
    "answ = True\n",
    "while answ:\n",
    "    print(\"\"\"\n",
    "    Enter 'a' to add\n",
    "    Enter 'b' to subtract\n",
    "    Enter 'c' to times\n",
    "    Enter 'd' to divide\n",
    "    Enter 'e' to the power of\n",
    "    Enter 'f' to square the first number\n",
    "    \"\"\")\n",
    "    answ = input(\"Which operation would you like to perform?\")\n",
    "    if answ == \"a\":\n",
    "        print(j+k)\n",
    "    elif answ == \"b\":\n",
    "        print (j-k)\n",
    "    elif answ == \"c\":\n",
    "        print (j*k)\n",
    "    elif answ == \"d\":\n",
    "        print (j/k)\n",
    "    elif answ == \"e\":\n",
    "        print(j**k)\n",
    "    elif answ == \"f\":\n",
    "        print(j**2)\n",
    "    else:\n",
    "        print(\"You input the wrong operation menu\")\n",
    "    break"
   ]
  },
  {
   "cell_type": "code",
   "execution_count": null,
   "metadata": {},
   "outputs": [],
   "source": []
  }
 ]
}