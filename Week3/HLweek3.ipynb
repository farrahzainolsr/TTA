{
 "metadata": {
  "language_info": {
   "codemirror_mode": {
    "name": "ipython",
    "version": 3
   },
   "file_extension": ".py",
   "mimetype": "text/x-python",
   "name": "python",
   "nbconvert_exporter": "python",
   "pygments_lexer": "ipython3",
   "version": "3.7.4"
  },
  "orig_nbformat": 2,
  "kernelspec": {
   "name": "python374jvsc74a57bd0dca0ade3e726a953b501b15e8e990130d2b7799f14cfd9f4271676035ebe5511",
   "display_name": "Python 3.7.4 64-bit ('base': conda)"
  }
 },
 "nbformat": 4,
 "nbformat_minor": 2,
 "cells": [
  {
   "source": [
    "## input number from user w,r,a (task1)"
   ],
   "cell_type": "markdown",
   "metadata": {}
  },
  {
   "source": [
    "\n",
    "fairy_file = open(\"numbers.txt\", \"w\")\n",
    "\n",
    "#get input from user max 4 numbers\n",
    "number1 = (input(\"Your 1st number is:\"))\n",
    "number2 = (input(\"Your 2nd number is:\"))\n",
    "number3 = (input(\"Your 3rd number is:\"))\n",
    "number4 = (input(\"Your last number is:\"))\n",
    "\n",
    "fairy_file.write(number1 + \"\\n\")\n",
    "fairy_file.write(number2 + \"\\n\")\n",
    "fairy_file.write(number3 + \"\\n\")\n",
    "fairy_file.write(number4 + \"\\n\")\n",
    "\n",
    "fairy_file.close()"
   ],
   "cell_type": "code",
   "metadata": {},
   "execution_count": 1,
   "outputs": []
  },
  {
   "cell_type": "code",
   "execution_count": 2,
   "metadata": {},
   "outputs": [],
   "source": [
    "fairy_file = open(\"numbers.txt\", \"a\")\n",
    "fairy_file.write(\"My Birthday is on 22/11!\")\n",
    "fairy_file.close()"
   ]
  },
  {
   "source": [
    "# mark_grade (task2)"
   ],
   "cell_type": "markdown",
   "metadata": {}
  },
  {
   "cell_type": "code",
   "execution_count": 9,
   "metadata": {},
   "outputs": [],
   "source": [
    "def mark_grade (mark):\n",
    "    if mark >=85 and mark<=100:\n",
    "        return \"A\"\n",
    "    elif mark >=70 and mark<85:\n",
    "        return \"B\"\n",
    "    elif mark >= 60 and mark < 70:\n",
    "        return \"C\"\n",
    "    elif mark >= 50 and mark < 60:\n",
    "        return \"D\"\n",
    "    elif mark >= 40 and mark < 50:\n",
    "        return \"E\"\n",
    "    elif mark >= 0 and mark < 40:\n",
    "        return \"F\"\n",
    "    else:\n",
    "        return \"Input not valid, key in the correct mark\""
   ]
  },
  {
   "cell_type": "code",
   "execution_count": 38,
   "metadata": {},
   "outputs": [
    {
     "output_type": "stream",
     "name": "stdout",
     "text": [
      "Your grade is: C\nYou have achieved higher than your targetted grade. Bravo! \n"
     ]
    }
   ],
   "source": [
    "target_grade = input(str(\"Enter your target grade between A and F: \"))\n",
    "mark=input(\"Enter the actual student's mark: \")\n",
    "\n",
    "grade = mark_grade(int(mark))\n",
    "print ('Your grade is: ' + grade)\n",
    "\n",
    "#xtar = ['A','B','C','D','E','F']\n",
    "\n",
    "if target_grade == 'A' or 'B' or 'C' or 'D' or 'E' or 'F':\n",
    "\n",
    "    if grade != \"Input not valid, key in the correct mark\" :\n",
    "\n",
    "        if target_grade == grade:\n",
    "            print('You have achieved your targetted grade. Good Effort !')\n",
    "        elif target_grade < grade:\n",
    "            print('You have achieved less than your targetted grade. Work harder. Do not give up!')\n",
    "        elif target_grade > grade and target_grade < 'G':\n",
    "            print ('You have achieved higher than your targetted grade. Bravo! ')\n",
    "        else:\n",
    "            print(\"Your target grade is invalid\")"
   ]
  },
  {
   "source": [
    "## Numpy (task 3)"
   ],
   "cell_type": "markdown",
   "metadata": {}
  },
  {
   "cell_type": "code",
   "execution_count": 39,
   "metadata": {},
   "outputs": [],
   "source": [
    "import numpy as np"
   ]
  },
  {
   "cell_type": "code",
   "execution_count": 43,
   "metadata": {},
   "outputs": [
    {
     "output_type": "stream",
     "name": "stdout",
     "text": [
      "Array from 0 to 10:  [0 1 2 3 4 5 6 7 8 9]\n"
     ]
    }
   ],
   "source": [
    "# 1- create 1D array of numbers from 0 to 9\n",
    "\n",
    "x = np.arange(0, 10)\n",
    "print(\"Array from 0 to 10: \" , x)\n"
   ]
  },
  {
   "cell_type": "code",
   "execution_count": 49,
   "metadata": {},
   "outputs": [
    {
     "output_type": "stream",
     "name": "stdout",
     "text": [
      "[[ True  True  True]\n [ True  True  True]\n [ True  True  True]]\n"
     ]
    }
   ],
   "source": [
    "# 2- Create a 3x3 Numpy array of all Boolean value Trues\n",
    "tru = np.arange(1,10).reshape(3,3)\n",
    "bool_tru = np.array(tru, dtype= bool)\n",
    "print(bool_tru)"
   ]
  },
  {
   "cell_type": "code",
   "execution_count": 51,
   "metadata": {},
   "outputs": [
    {
     "output_type": "stream",
     "name": "stdout",
     "text": [
      "[[ True  True  True]\n [ True  True  True]\n [ True  True  True]]\n"
     ]
    }
   ],
   "source": [
    "tru2 = np.ones(9).reshape(3,3)\n",
    "truee = np.array(tru2, dtype = bool)\n",
    "print(truee)"
   ]
  },
  {
   "cell_type": "code",
   "execution_count": 61,
   "metadata": {},
   "outputs": [
    {
     "output_type": "stream",
     "name": "stdout",
     "text": [
      "[1 3 5 7 9]\n"
     ]
    }
   ],
   "source": [
    "#3 - Extract all odd numbers from array of 1-10 \n",
    "arr1 = np.arange(1,11,1)\n",
    "oddnum = arr1[arr1 % 2 == 1]\n",
    "print(oddnum)"
   ]
  },
  {
   "cell_type": "code",
   "execution_count": 63,
   "metadata": {},
   "outputs": [
    {
     "output_type": "stream",
     "name": "stdout",
     "text": [
      "[-1  2 -1  4 -1  6 -1  8 -1 10]\n"
     ]
    }
   ],
   "source": [
    "#4 - Replace all odd numbers from array of 1-10 with -1\n",
    "\n",
    "replace = np.where(arr1 % 2 == 0, arr1,-1)\n",
    "print(replace)"
   ]
  },
  {
   "cell_type": "code",
   "execution_count": 55,
   "metadata": {},
   "outputs": [
    {
     "output_type": "execute_result",
     "data": {
      "text/plain": [
       "array([0, 1, 2, 3, 4, 5, 6, 7, 8, 9])"
      ]
     },
     "metadata": {},
     "execution_count": 55
    }
   ],
   "source": [
    "x"
   ]
  },
  {
   "cell_type": "code",
   "execution_count": 69,
   "metadata": {},
   "outputs": [
    {
     "output_type": "stream",
     "name": "stdout",
     "text": [
      "[[ 1  2]\n [ 3  4]\n [ 5  6]\n [ 7  8]\n [ 9 10]\n [11 12]\n [13 14]\n [15 16]\n [17 18]\n [19 20]]\n"
     ]
    }
   ],
   "source": [
    "#5- Convert a 1D array to a 2D array with 2 rows\n",
    "\n",
    "convert = np.arange(1,21,1)\n",
    "aftercon = convert.reshape(10,2)\n",
    "print(aftercon)"
   ]
  },
  {
   "cell_type": "code",
   "execution_count": 73,
   "metadata": {},
   "outputs": [
    {
     "output_type": "execute_result",
     "data": {
      "text/plain": [
       "3"
      ]
     },
     "metadata": {},
     "execution_count": 73
    }
   ],
   "source": [
    "# Check item 2D array\n",
    "aftercon[1,0]"
   ]
  },
  {
   "cell_type": "code",
   "execution_count": 77,
   "metadata": {},
   "outputs": [
    {
     "output_type": "stream",
     "name": "stdout",
     "text": [
      "[[199 210]\n [271 286]]\n\n Sum of a :  26\n\n Sum of b :  74\n\n Sum of b :  100\n"
     ]
    }
   ],
   "source": [
    "# - 6 \n",
    "\n",
    "a = np.array([[5,6],[7,8]]) \n",
    "b = np.array([[17,18],[19,20]]) \n",
    "c = np.dot(a,b)\n",
    "print (c)\n",
    "print (\"\\n Sum of a : \", np.sum(a))\n",
    "print (\"\\n Sum of b : \", np.sum(b))\n",
    "print (\"\\n Sum of b : \", np.sum(a+b))"
   ]
  },
  {
   "cell_type": "code",
   "execution_count": 78,
   "metadata": {},
   "outputs": [
    {
     "output_type": "execute_result",
     "data": {
      "text/plain": [
       "array([1, 1, 1, 2, 2, 2, 3, 3, 3, 1, 2, 3, 1, 2, 3, 1, 2, 3])"
      ]
     },
     "metadata": {},
     "execution_count": 78
    }
   ],
   "source": [
    "#Extension 1\n",
    "\n",
    "a = np.array([1,2,3])\n",
    "#desired output: array([1, 1, 1, 2, 2, 2, 3, 3, 3, 1, 2, 3, 1, 2, 3, 1, 2, 3])\n",
    "np.r_[np.repeat(a, 3), np.tile(a, 3)] #concatenate on one axis"
   ]
  },
  {
   "cell_type": "code",
   "execution_count": 80,
   "metadata": {},
   "outputs": [
    {
     "output_type": "stream",
     "name": "stdout",
     "text": [
      "[6 7 8 9]\n"
     ]
    }
   ],
   "source": [
    "#Extension - 2 - In two arrays a ( 1,2,3,4,5) and b ( 4,5,6,7,8,9) remove all repeating items present in array b\n",
    "\n",
    "a = np.array([1,2,3,4,5])\n",
    "b = np.array([4,5,6,7,8,9])\n",
    "\n",
    "newb = np.setdiff1d(b,a)\n",
    "print(newb)"
   ]
  },
  {
   "cell_type": "code",
   "execution_count": 86,
   "metadata": {},
   "outputs": [
    {
     "output_type": "stream",
     "name": "stdout",
     "text": [
      "34\n"
     ]
    }
   ],
   "source": [
    "#Extension 3 - Get all items between 3 and 7 from a and b and sum them together\n",
    "\n",
    "a_ = a[2:]\n",
    "b_ = b[:4]\n",
    "asum = np.sum(a_)\n",
    "bsum = np.sum(b_)\n",
    "print(np.sum(asum+bsum))"
   ]
  }
 ]
}