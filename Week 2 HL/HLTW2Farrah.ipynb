{
 "metadata": {
  "language_info": {
   "codemirror_mode": {
    "name": "ipython",
    "version": 3
   },
   "file_extension": ".py",
   "mimetype": "text/x-python",
   "name": "python",
   "nbconvert_exporter": "python",
   "pygments_lexer": "ipython3",
   "version": "3.7.4"
  },
  "orig_nbformat": 2,
  "kernelspec": {
   "name": "python374jvsc74a57bd0dca0ade3e726a953b501b15e8e990130d2b7799f14cfd9f4271676035ebe5511",
   "display_name": "Python 3.7.4 64-bit ('base': conda)"
  }
 },
 "nbformat": 4,
 "nbformat_minor": 2,
 "cells": [
  {
   "cell_type": "code",
   "execution_count": 11,
   "metadata": {},
   "outputs": [
    {
     "output_type": "stream",
     "name": "stdout",
     "text": [
      "Good Morning Eva Rose, today is the weekends. Ready to have some extra fun?\n"
     ]
    }
   ],
   "source": [
    "# Task 1 - Convert the flow chart to the program\n",
    "import datetime as dt \n",
    "today = dt.datetime.today().weekday()\n",
    "if today == 5 or 6:\n",
    "    print(\"Good Morning Eva Rose, today is the weekends. Ready to have some extra fun?\")\n",
    "else:\n",
    "    print(\"Good Morning Eva Rose, today is a school day. Ready to go to school?\")"
   ]
  },
  {
   "cell_type": "code",
   "execution_count": 17,
   "metadata": {},
   "outputs": [],
   "source": [
    "sun= int(input(\" Can you see outside if it is Sunny or not - Please type in 1-Sunny, and 2- Not Sunny\"))\n"
   ]
  },
  {
   "cell_type": "code",
   "execution_count": 20,
   "metadata": {},
   "outputs": [
    {
     "output_type": "stream",
     "name": "stdout",
     "text": [
      "Lets do your laundry instead\n"
     ]
    }
   ],
   "source": [
    "if sun == 1: \n",
    "    bike = int(input(\"Do you want to have a bike ride? Please type the number : 1 - OK!, 2 - Something else please mommy!\"))\n",
    "    if bike == 1:\n",
    "        print(\"Lets go for a ride - 2 hours only!\")\n",
    "    elif bike == 2:\n",
    "        ground = int(input(\"Do you want to go to the park instead? Please type the number : 1 - OK!, 2 - No..\"))\n",
    "        if ground == 1:\n",
    "            print(\"Lets go to the park - 2 hours only!\")\n",
    "        else:\n",
    "            print(\"Lets do your laundry instead\")\n",
    "else:\n",
    "    violin = int(input(\"Do you want to practice violin? Please type the number : 1 - OK!, 2 - Something else please mommy!\"))\n",
    "    if violin == 1:\n",
    "        print(\"Lets go play some violin - 2 hours only!\")\n",
    "    elif violin == 2:\n",
    "        sci = int(input(\"Do you want to go do some experiment? Please type the number : 1 - OK!, 2 - No..\"))\n",
    "        if sci == 1:\n",
    "            print(\"Lets have some fun - 2 hours only!\")\n",
    "        else:\n",
    "            print(\"Lets do your laundry instead\")\n"
   ]
  },
  {
   "cell_type": "code",
   "execution_count": 1,
   "metadata": {},
   "outputs": [],
   "source": [
    "\n",
    "import random\n",
    "import numpy as np\n",
    "random1 = np.random.randint(1,10)"
   ]
  },
  {
   "cell_type": "code",
   "execution_count": 2,
   "metadata": {},
   "outputs": [],
   "source": [
    "# Task 2 Function with (Loop) \n",
    "\n",
    "def func_bike1(a):\n",
    "    i = 1\n",
    "    b = 1000\n",
    "    while a < a+1:\n",
    "            print(\"year\", i , a)\n",
    "            i = i+1\n",
    "            a = 0.9*int(a) \n",
    "            if a < b:\n",
    "                msg = (\"The bike is below £\" + str(b) +\" in year \" + str(i) + \" which is at £\" + str(int(a)))\n",
    "                break\n",
    "    return msg\n",
    "      \n"
   ]
  },
  {
   "cell_type": "code",
   "execution_count": null,
   "metadata": {},
   "outputs": [],
   "source": [
    "# a = 2000 #in case no input given "
   ]
  },
  {
   "cell_type": "code",
   "execution_count": 3,
   "metadata": {},
   "outputs": [],
   "source": [
    "a = int(input(\"please input your inital price for the bike\"))"
   ]
  },
  {
   "cell_type": "code",
   "execution_count": 4,
   "metadata": {},
   "outputs": [
    {
     "output_type": "stream",
     "name": "stdout",
     "text": [
      "year 1 2000\nyear 2 1800.0\nyear 3 1620.0\nyear 4 1458.0\nyear 5 1312.2\nyear 6 1180.8\nyear 7 1062.0\n"
     ]
    },
    {
     "output_type": "execute_result",
     "data": {
      "text/plain": [
       "'The bike is below £1000 in year 8 which is at £955'"
      ]
     },
     "metadata": {},
     "execution_count": 4
    }
   ],
   "source": [
    "func_bike1(a)"
   ]
  },
  {
   "cell_type": "code",
   "execution_count": 16,
   "metadata": {},
   "outputs": [],
   "source": [
    "# Task 3 \n",
    "def operate_1():\n",
    "\n",
    "    print(\"\"\"\n",
    "        Enter 'a' to add\n",
    "        Enter 'b' to subtract\n",
    "        Enter 'c' to times\n",
    "        Enter 'd' to divide\n",
    "        Enter 'e' to the power of\n",
    "        Enter 'f' to square the first number\n",
    "        \"\"\")\n",
    "\n",
    "    "
   ]
  },
  {
   "cell_type": "code",
   "execution_count": 17,
   "metadata": {},
   "outputs": [],
   "source": [
    "def func_operate(answ):\n",
    "    if answ == \"a\":\n",
    "            outt = (j+k)\n",
    "    elif answ == \"b\":\n",
    "            outt = (j-k)\n",
    "    elif answ == \"c\":\n",
    "            outt = (j*k)\n",
    "    elif answ == \"d\":\n",
    "            outt = (j/k)\n",
    "    elif answ == \"e\":\n",
    "            outt = (j**k)\n",
    "    elif answ == \"f\":\n",
    "            outt = (j**2)\n",
    "    else:\n",
    "            outt = (\"You input the wrong operation menu\")\n",
    "    return outt "
   ]
  },
  {
   "cell_type": "code",
   "execution_count": 25,
   "metadata": {},
   "outputs": [
    {
     "output_type": "stream",
     "name": "stdout",
     "text": [
      "\n        Enter 'a' to add\n        Enter 'b' to subtract\n        Enter 'c' to times\n        Enter 'd' to divide\n        Enter 'e' to the power of\n        Enter 'f' to square the first number\n        \n"
     ]
    }
   ],
   "source": [
    "#Task 3 (maths operations)\n",
    "\n",
    "j = int(input(\"input a single digit number\"))\n",
    "k = int(input(\"input a second single digit number\"))\n",
    "\n",
    "operate_1()"
   ]
  },
  {
   "cell_type": "code",
   "execution_count": 26,
   "metadata": {},
   "outputs": [],
   "source": [
    "answ = input(\"Which operation would you like to perform?\")"
   ]
  },
  {
   "cell_type": "code",
   "execution_count": 27,
   "metadata": {},
   "outputs": [
    {
     "output_type": "stream",
     "name": "stdout",
     "text": [
      "Your answer is 1024\n"
     ]
    }
   ],
   "source": [
    "here = func_operate(answ)\n",
    "print(\"Your answer is \" + str(here))"
   ]
  }
 ]
}